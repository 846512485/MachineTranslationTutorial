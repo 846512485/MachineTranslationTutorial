{
 "metadata": {
  "language_info": {
   "codemirror_mode": {
    "name": "ipython",
    "version": 3
   },
   "file_extension": ".py",
   "mimetype": "text/x-python",
   "name": "python",
   "nbconvert_exporter": "python",
   "pygments_lexer": "ipython3",
   "version": 3
  },
  "orig_nbformat": 2
 },
 "nbformat": 4,
 "nbformat_minor": 2,
 "cells": [
  {
   "cell_type": "markdown",
   "metadata": {},
   "source": [
    "# 分词\n",
    "分词是数据预处理的第一步。。对于像中文这样没有单词边界的语言，分词的策略通常比较复杂。现在常用的一些中文分词工具有 NLTK、jieba等。而像英文这种有单词边界的语言，分词要简单许多，比如，Moses 工具包就有可以处理绝大多数拉丁语系语言的分词脚本。\n",
    "\n",
    "本章节就以[sacremoses](https://github.com/alvations/sacremoses)为例，讲解英文的分词过程。\n",
    "\n",
    "首先安装sacremoses"
   ]
  },
  {
   "cell_type": "code",
   "execution_count": null,
   "metadata": {},
   "outputs": [],
   "source": [
    "pip install -U sacremoses"
   ]
  },
  {
   "cell_type": "markdown",
   "metadata": {},
   "source": [
    "## 英文分词\n",
    "虽然拉丁语系词与词之间天然有空格对句子进行分割，但是我们还要处理一些特殊情况，如缩写（You're -> \\[\"You\", \"'re\"\\]），标点符号（\"stupid.\" -> \\[\"stupid\", \".\"\\]）等。Moses 工具包就有可以处理绝大多数拉丁语系语言的分词脚本，是采用perl语言编写的。sacremoses是它的一个python实现，使用起来相对方便。拉丁语系因为天然有空格分隔不同的词，所以分词原理相对较为简单，主要是使用各种正则表达式进行抽取、分隔。编写这些正则表达式需要语言领域的知识和长期的经验积累，这里就不深入探究具体的细节了，有现成的工具我们只需要调用就好。\n",
    "\n",
    "下面演示一下它的基础用法："
   ]
  },
  {
   "cell_type": "code",
   "execution_count": null,
   "metadata": {},
   "outputs": [],
   "source": [
    "from sacremoses import MosesTokenizer\n",
    "mt = MosesTokenizer(lang='en')  # 创建MosesTokenizer对象，并指定目标语言为英语\n",
    "text = \"You're so stupid.\"\n",
    "mt.tokenize(text)"
   ]
  },
  {
   "cell_type": "markdown",
   "metadata": {},
   "source": [
    "在inference阶段，我们需要把模型输出的词序列重建为完整的句子，sacremoses也为我们提供了相关的api。"
   ]
  },
  {
   "cell_type": "code",
   "execution_count": null,
   "metadata": {},
   "outputs": [],
   "source": [
    "from sacremoses import MosesDetokenizer\n",
    "\n",
    "md = MosesDetokenizer(lang=\"en\")  #  创建MosesDeokenizer对象，并指定目标语言为英语\n",
    "md.detokenize(words)  #  重建刚才分词的句子"
   ]
  }
 ]
}